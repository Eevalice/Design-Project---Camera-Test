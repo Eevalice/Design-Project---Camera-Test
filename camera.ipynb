{
 "cells": [
  {
   "cell_type": "code",
   "execution_count": null,
   "metadata": {},
   "outputs": [
    {
     "name": "stdout",
     "output_type": "stream",
     "text": [
      "Choose an option:\n",
      "1. Capture and display webcam feed in real-time\n",
      "2. Display a static image file\n",
      "Press 'q' to exit the webcam feed.\n",
      "Error: Failed to capture frame.\n"
     ]
    }
   ],
   "source": [
    "import cv2\n",
    "import numpy as np\n",
    "import matplotlib.pyplot as plt\n",
    "\n",
    "def capture_and_display_webcam():\n",
    "    \"\"\"\n",
    "    Captures frames from the webcam and displays them in real-time.\n",
    "    Press 'q' to quit the webcam feed.\n",
    "    \"\"\"\n",
    "    cap = cv2.VideoCapture(4)  # Open default webcam (index 0)\n",
    "\n",
    "    if not cap.isOpened():\n",
    "        print(\"Error: Could not open webcam.\")\n",
    "        return\n",
    "\n",
    "    print(\"Press 'q' to exit the webcam feed.\")\n",
    "\n",
    "    while True:\n",
    "        ret, frame = cap.read()\n",
    "        if not ret:\n",
    "            print(\"Error: Failed to capture frame.\")\n",
    "            break\n",
    "\n",
    "        # Display the frame in a window\n",
    "        cv2.imshow(\"Webcam Feed\", frame)\n",
    "\n",
    "        # Exit the feed when 'q' is pressed\n",
    "        if cv2.waitKey(1) & 0xFF == ord('q'):\n",
    "            break\n",
    "\n",
    "    cap.release()\n",
    "    cv2.destroyAllWindows()\n",
    "\n",
    "def display_image(image_path):\n",
    "    \"\"\"\n",
    "    Displays an image using Matplotlib (alternative to cv2_imshow).\n",
    "    \n",
    "    Args:\n",
    "        image_path (str): Path to the image file to be displayed.\n",
    "    \"\"\"\n",
    "    image = cv2.imread(image_path)\n",
    "\n",
    "    if image is None:\n",
    "        print(f\"Error: Unable to load image at {image_path}\")\n",
    "        return\n",
    "\n",
    "    # Convert BGR to RGB for Matplotlib\n",
    "    image = cv2.cvtColor(image, cv2.COLOR_BGR2RGB)\n",
    "\n",
    "    plt.imshow(image)\n",
    "    plt.axis(\"off\")  # Hide the axes\n",
    "    plt.show()\n",
    "\n",
    "if __name__ == \"__main__\":\n",
    "    print(\"Choose an option:\")\n",
    "    print(\"1. Capture and display webcam feed in real-time\")\n",
    "    print(\"2. Display a static image file\")\n",
    "\n",
    "    choice = input(\"Enter your choice (1/2): \")\n",
    "\n",
    "    if choice == \"1\":\n",
    "        capture_and_display_webcam()\n",
    "    elif choice == \"2\":\n",
    "        image_path = input(\"Enter the path to the image file: \")\n",
    "        display_image(image_path)\n",
    "    else:\n",
    "        print(\"Invalid choice. Exiting.\")"
   ]
  },
  {
   "cell_type": "code",
   "execution_count": null,
   "metadata": {},
   "outputs": [],
   "source": []
  }
 ],
 "metadata": {
  "kernelspec": {
   "display_name": "base",
   "language": "python",
   "name": "python3"
  },
  "language_info": {
   "codemirror_mode": {
    "name": "ipython",
    "version": 3
   },
   "file_extension": ".py",
   "mimetype": "text/x-python",
   "name": "python",
   "nbconvert_exporter": "python",
   "pygments_lexer": "ipython3",
   "version": "3.11.5"
  }
 },
 "nbformat": 4,
 "nbformat_minor": 2
}
